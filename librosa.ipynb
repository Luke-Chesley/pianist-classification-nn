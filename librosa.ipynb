{
 "cells": [
  {
   "cell_type": "code",
   "execution_count": 1,
   "metadata": {},
   "outputs": [],
   "source": [
    "import numpy as np\n",
    "import math\n",
    "import librosa\n",
    "import glob\n",
    "\n",
    "import IPython.display as ipd\n",
    "\n",
    "import pandas as pd\n",
    "import seaborn as sns\n",
    "\n",
    "import matplotlib.pyplot as plt\n",
    "\n",
    "import torch\n",
    "from torch import nn\n",
    "import matplotlib.pyplot as plt\n",
    "\n",
    "\n",
    "from sklearn import preprocessing\n",
    "from sklearn.model_selection import train_test_split\n",
    "from sklearn.metrics import confusion_matrix\n",
    "\n",
    "\n",
    "from scipy.special import expit, logit\n",
    "\n",
    "\n",
    "plt.style.use(\"dark_background\")\n",
    "\n",
    "pd.set_option(\"display.max_columns\", 2500)\n",
    "pd.set_option(\"display.max_rows\", 50)\n",
    "\n",
    "plt.style.use(\"dark_background\")\n",
    "\n",
    "%load_ext lab_black"
   ]
  },
  {
   "cell_type": "markdown",
   "metadata": {},
   "source": [
    "# NN to classify pianists based on audio sample"
   ]
  },
  {
   "cell_type": "markdown",
   "metadata": {},
   "source": [
    "### functions"
   ]
  },
  {
   "cell_type": "code",
   "execution_count": 2,
   "metadata": {},
   "outputs": [],
   "source": [
    "### Data Preprocessing function with librosa\n",
    "N_BINS = 60\n",
    "HOP_LENGTH = 512\n",
    "\n",
    "\n",
    "def get_logC(audio_file):\n",
    "    y, sr = librosa.load(audio_file)\n",
    "    C = librosa.cqt(\n",
    "        y, sr=sr, fmin=librosa.note_to_hz(\"C1\"), n_bins=N_BINS, hop_length=HOP_LENGTH\n",
    "    )\n",
    "    logC = librosa.amplitude_to_db(np.abs(C))\n",
    "    df = pd.DataFrame(logC)\n",
    "    return df\n",
    "\n",
    "\n",
    "### Accuracy function\n",
    "def accuracy_fn(y_true, y_pred):\n",
    "    correct = torch.eq(y_true, y_pred).sum().item()\n",
    "    acc = correct / len(y_true) * 100\n",
    "\n",
    "    return acc\n",
    "\n",
    "\n",
    "### Batch function\n",
    "\n",
    "\n",
    "def split_batches(x, batch_size):\n",
    "    return torch.split(x, batch_size)\n",
    "\n",
    "\n",
    "### dict function\n",
    "def get_keys_from_value(d, val):\n",
    "    return [k for k, v in d.items() if v == val]\n",
    "\n",
    "\n",
    "### set device\n",
    "device = \"cuda\" if torch.cuda.is_available() else \"cpu\"\n",
    "\n",
    "### get audio files\n",
    "audio_files = glob.glob(\"audio_files/**/*.mp3\", recursive=True)"
   ]
  },
  {
   "cell_type": "markdown",
   "metadata": {},
   "source": [
    "### Assign labels"
   ]
  },
  {
   "cell_type": "code",
   "execution_count": 3,
   "metadata": {},
   "outputs": [],
   "source": [
    "### Assign classes\n",
    "\n",
    "artist_dict = {\n",
    "    \"Gould\": 0,\n",
    "    \"Ishizaka\": 1,\n",
    "    \"Richter\": 2,\n",
    "    \"Schiff\": 3,\n",
    "    \"Tureck\": 4,\n",
    "    \"Tharaud\": 5,\n",
    "    \"Moravec\": 6,\n",
    "    \"Rubinstein\": 7,\n",
    "    \"Pogorelich\": 8,\n",
    "    \"Nikolayeva\": 9,\n",
    "    \"Horowitz\": 10,\n",
    "    \"Crochet\": 11,\n",
    "}\n",
    "\n",
    "for n in audio_files[0:]:\n",
    "    artist = n.split(\"/\")[1].split()[0]\n",
    "    if artist not in artist_dict.keys():\n",
    "        print(artist)"
   ]
  },
  {
   "cell_type": "markdown",
   "metadata": {},
   "source": [
    "### Get data"
   ]
  },
  {
   "cell_type": "code",
   "execution_count": 4,
   "metadata": {},
   "outputs": [],
   "source": [
    "### Get data\n",
    "\n",
    "SECONDS_PER_SAMPLE = 10\n",
    "chunk_size = SECONDS_PER_SAMPLE * 45  # 45 samples per second\n",
    "X_list = []  # List to store X arrays\n",
    "y_list = []  # List to store y arrays\n",
    "\n",
    "for file in audio_files[0:]:\n",
    "    t = get_logC(file)\n",
    "\n",
    "    artist_mapping = file.split(\"/\")[1].split()[0]\n",
    "\n",
    "    array_list = []\n",
    "\n",
    "    for n in range(len(t.columns) // chunk_size):\n",
    "        arr = t[range(n * chunk_size, (n + 1) * chunk_size, 1)].T.to_numpy()\n",
    "        array_list.append(arr)\n",
    "\n",
    "    arrays = np.array(array_list)\n",
    "    X_list.append(torch.tensor(arrays))\n",
    "    y_list.append(torch.full((arrays.shape[0],), artist_dict[artist_mapping]))\n",
    "\n",
    "X = torch.cat(X_list, dim=0)\n",
    "y = torch.cat(y_list, dim=0)\n",
    "y = y.to(torch.float32)"
   ]
  },
  {
   "cell_type": "code",
   "execution_count": 5,
   "metadata": {},
   "outputs": [
    {
     "data": {
      "text/plain": [
       "tensor([[-66.4303, -66.4303, -66.4303,  ..., -66.4303, -66.4303, -66.4303],\n",
       "        [-66.4303, -66.4303, -66.4303,  ..., -66.4303, -66.4303, -66.4303],\n",
       "        [-66.4303, -66.4303, -66.4303,  ..., -66.4303, -66.4303, -66.4303],\n",
       "        ...,\n",
       "        [-52.3281, -37.7835, -38.3474,  ...,  -8.6718, -12.2944, -29.1438],\n",
       "        [-49.0559, -37.7148, -38.4880,  ..., -10.4216, -13.2347, -25.9301],\n",
       "        [-45.2367, -38.0367, -38.8387,  ...,  -5.6747, -11.9044, -28.6041]])"
      ]
     },
     "execution_count": 5,
     "metadata": {},
     "output_type": "execute_result"
    }
   ],
   "source": [
    "X[0]"
   ]
  },
  {
   "cell_type": "code",
   "execution_count": null,
   "metadata": {},
   "outputs": [],
   "source": []
  },
  {
   "cell_type": "code",
   "execution_count": 6,
   "metadata": {},
   "outputs": [],
   "source": [
    "X_train, X_test, y_train, y_test = train_test_split(\n",
    "    X, y, test_size=0.2, random_state=42\n",
    ")"
   ]
  },
  {
   "cell_type": "code",
   "execution_count": 7,
   "metadata": {},
   "outputs": [
    {
     "data": {
      "text/plain": [
       "(torch.Size([7410, 450, 60]), torch.Size([7410]))"
      ]
     },
     "execution_count": 7,
     "metadata": {},
     "output_type": "execute_result"
    }
   ],
   "source": [
    "X.shape, y.shape"
   ]
  },
  {
   "cell_type": "code",
   "execution_count": 8,
   "metadata": {},
   "outputs": [],
   "source": [
    "INITIAL_FEATURES = N_BINS  ## Set with librosa, 60 note classes\n",
    "\n",
    "end_features = len(artist_dict)"
   ]
  },
  {
   "cell_type": "markdown",
   "metadata": {},
   "source": [
    "### Model class"
   ]
  },
  {
   "cell_type": "code",
   "execution_count": 9,
   "metadata": {},
   "outputs": [],
   "source": [
    "# 1. Model that subclasses nn.Module\n",
    "class Model_1(nn.Module):\n",
    "    def __init__(self):\n",
    "        super().__init__()\n",
    "        # 2. create 2 nn.Linear capable of handling shape of  data\n",
    "        self.layer_1 = nn.Linear(in_features=INITIAL_FEATURES, out_features=128)\n",
    "        self.layer_2 = nn.Linear(in_features=128, out_features=256)\n",
    "        self.layer_3 = nn.Linear(in_features=256, out_features=end_features)\n",
    "        self.relu = nn.ReLU()\n",
    "        self.batchnorm1 = nn.BatchNorm1d(INITIAL_FEATURES)\n",
    "        self.batchnorm2 = nn.BatchNorm1d(128)\n",
    "        self.batchnorm3 = nn.BatchNorm1d(256)\n",
    "        self.dropout = nn.Dropout(0.25)\n",
    "\n",
    "    # 3. define the forward method that outlines the forward pass of the network\n",
    "    def forward(self, x):\n",
    "        batch_size = x.size(0)  # Get the batch size\n",
    "\n",
    "        x = x.view(-1, x.size(-1))  # Reshape\n",
    "\n",
    "        x = self.relu(\n",
    "            self.dropout(\n",
    "                self.layer_3(\n",
    "                    self.batchnorm3(\n",
    "                        self.dropout(\n",
    "                            self.relu(\n",
    "                                self.layer_2(\n",
    "                                    self.batchnorm2(\n",
    "                                        self.dropout(\n",
    "                                            self.relu(self.layer_1(self.batchnorm1(x)))\n",
    "                                        )\n",
    "                                    )\n",
    "                                )\n",
    "                            )\n",
    "                        )\n",
    "                    )\n",
    "                )\n",
    "            )\n",
    "        )\n",
    "\n",
    "        # x = self.dropout(\n",
    "        #   self.relu(\n",
    "        #      self.layer_2(\n",
    "        #         self.batchnorm2(\n",
    "        #            self.dropout(self.relu(self.layer_1(self.batchnorm1(x))))\n",
    "        #       )\n",
    "        #  )\n",
    "        # )\n",
    "        # )\n",
    "\n",
    "        x = x.view(batch_size, chunk_size, end_features)  # Reshape\n",
    "\n",
    "        return x\n",
    "\n",
    "\n",
    "# 4. Instantiate the model and move it to the device\n",
    "\n",
    "model_1 = Model_1().to(device)\n",
    "\n",
    "# model_1 = torch.compile(model_1)\n",
    "\n",
    "# loss\n",
    "loss_fn = nn.CrossEntropyLoss()\n",
    "\n",
    "\n",
    "# optimizer\n",
    "\n",
    "# optimizer = torch.optim.SGD(model_1.parameters(), lr=0.001)\n",
    "optimizer = torch.optim.Adam(model_1.parameters(), lr=0.001)"
   ]
  },
  {
   "cell_type": "markdown",
   "metadata": {},
   "source": [
    "### Training loop"
   ]
  },
  {
   "cell_type": "code",
   "execution_count": 13,
   "metadata": {},
   "outputs": [
    {
     "name": "stdout",
     "output_type": "stream",
     "text": [
      "y_logits.shape = torch.Size([8, 450, 12])\n",
      "y_preds = tensor([ 6,  9,  1,  8,  1,  5,  5, 11], device='cuda:0')\n",
      "[tensor(2.3605, device='cuda:0', grad_fn=<NllLossBackward0>), tensor(2.4619, device='cuda:0', grad_fn=<NllLossBackward0>), tensor(2.5993, device='cuda:0', grad_fn=<NllLossBackward0>), tensor(2.5459, device='cuda:0', grad_fn=<NllLossBackward0>), tensor(2.5404, device='cuda:0', grad_fn=<NllLossBackward0>), tensor(2.5702, device='cuda:0', grad_fn=<NllLossBackward0>), tensor(2.4934, device='cuda:0', grad_fn=<NllLossBackward0>), tensor(2.5191, device='cuda:0', grad_fn=<NllLossBackward0>), tensor(2.7201, device='cuda:0', grad_fn=<NllLossBackward0>), tensor(2.6171, device='cuda:0', grad_fn=<NllLossBackward0>), tensor(2.6487, device='cuda:0', grad_fn=<NllLossBackward0>), tensor(2.6826, device='cuda:0', grad_fn=<NllLossBackward0>), tensor(2.2832, device='cuda:0', grad_fn=<NllLossBackward0>), tensor(2.5483, device='cuda:0', grad_fn=<NllLossBackward0>), tensor(2.6246, device='cuda:0', grad_fn=<NllLossBackward0>), tensor(2.3937, device='cuda:0', grad_fn=<NllLossBackward0>), tensor(2.5992, device='cuda:0', grad_fn=<NllLossBackward0>), tensor(2.7038, device='cuda:0', grad_fn=<NllLossBackward0>), tensor(2.7356, device='cuda:0', grad_fn=<NllLossBackward0>), tensor(2.6817, device='cuda:0', grad_fn=<NllLossBackward0>), tensor(2.4515, device='cuda:0', grad_fn=<NllLossBackward0>), tensor(2.4871, device='cuda:0', grad_fn=<NllLossBackward0>), tensor(2.5861, device='cuda:0', grad_fn=<NllLossBackward0>), tensor(2.3945, device='cuda:0', grad_fn=<NllLossBackward0>), tensor(2.4623, device='cuda:0', grad_fn=<NllLossBackward0>), tensor(2.6620, device='cuda:0', grad_fn=<NllLossBackward0>), tensor(2.4229, device='cuda:0', grad_fn=<NllLossBackward0>), tensor(2.6076, device='cuda:0', grad_fn=<NllLossBackward0>), tensor(2.4906, device='cuda:0', grad_fn=<NllLossBackward0>), tensor(2.4817, device='cuda:0', grad_fn=<NllLossBackward0>), tensor(2.5011, device='cuda:0', grad_fn=<NllLossBackward0>), tensor(2.5977, device='cuda:0', grad_fn=<NllLossBackward0>), tensor(2.3048, device='cuda:0', grad_fn=<NllLossBackward0>), tensor(2.6918, device='cuda:0', grad_fn=<NllLossBackward0>), tensor(2.3731, device='cuda:0', grad_fn=<NllLossBackward0>), tensor(2.3971, device='cuda:0', grad_fn=<NllLossBackward0>), tensor(2.2776, device='cuda:0', grad_fn=<NllLossBackward0>), tensor(2.5059, device='cuda:0', grad_fn=<NllLossBackward0>), tensor(2.4647, device='cuda:0', grad_fn=<NllLossBackward0>), tensor(2.4074, device='cuda:0', grad_fn=<NllLossBackward0>), tensor(2.4576, device='cuda:0', grad_fn=<NllLossBackward0>), tensor(2.2244, device='cuda:0', grad_fn=<NllLossBackward0>), tensor(2.4331, device='cuda:0', grad_fn=<NllLossBackward0>), tensor(2.4999, device='cuda:0', grad_fn=<NllLossBackward0>), tensor(2.5819, device='cuda:0', grad_fn=<NllLossBackward0>)]\n"
     ]
    },
    {
     "ename": "NameError",
     "evalue": "name 'acc' is not defined",
     "output_type": "error",
     "traceback": [
      "\u001b[0;31m---------------------------------------------------------------------------\u001b[0m",
      "\u001b[0;31mNameError\u001b[0m                                 Traceback (most recent call last)",
      "Cell \u001b[0;32mIn[13], line 91\u001b[0m\n\u001b[1;32m     88\u001b[0m \u001b[39m# print results\u001b[39;00m\n\u001b[1;32m     89\u001b[0m \u001b[39mif\u001b[39;00m (epoch) \u001b[39m%\u001b[39m \u001b[39m10\u001b[39m \u001b[39m==\u001b[39m \u001b[39m0\u001b[39m:\n\u001b[1;32m     90\u001b[0m     \u001b[39mprint\u001b[39m(\n\u001b[0;32m---> 91\u001b[0m         \u001b[39mf\u001b[39m\u001b[39m\"\u001b[39m\u001b[39mEpoch: \u001b[39m\u001b[39m{\u001b[39;00mepoch\u001b[39m}\u001b[39;00m\u001b[39m | Train Loss: \u001b[39m\u001b[39m{\u001b[39;00mloss\u001b[39m:\u001b[39;00m\u001b[39m.5f\u001b[39m\u001b[39m}\u001b[39;00m\u001b[39m | Train Acc: \u001b[39m\u001b[39m{\u001b[39;00macc\u001b[39m:\u001b[39;00m\u001b[39m.3f\u001b[39m\u001b[39m}\u001b[39;00m\u001b[39m% | Test Loss: \u001b[39m\u001b[39m{\u001b[39;00mtest_loss\u001b[39m:\u001b[39;00m\u001b[39m.5f\u001b[39m\u001b[39m}\u001b[39;00m\u001b[39m | Test Acc: \u001b[39m\u001b[39m{\u001b[39;00mtest_acc\u001b[39m:\u001b[39;00m\u001b[39m.3f\u001b[39m\u001b[39m}\u001b[39;00m\u001b[39m%\u001b[39m\u001b[39m\"\u001b[39m\n\u001b[1;32m     92\u001b[0m     )\n\u001b[1;32m     93\u001b[0m     \u001b[39m# print(\u001b[39;00m\n\u001b[1;32m     94\u001b[0m     \u001b[39m#    pd.Series(\u001b[39;00m\n\u001b[1;32m     95\u001b[0m     \u001b[39m#        (torch.mode(y_preds).values.cpu().detach().numpy())\u001b[39;00m\n\u001b[1;32m     96\u001b[0m     \u001b[39m#    ).value_counts()\u001b[39;00m\n\u001b[1;32m     97\u001b[0m     \u001b[39m# )\u001b[39;00m\n",
      "\u001b[0;31mNameError\u001b[0m: name 'acc' is not defined"
     ]
    }
   ],
   "source": [
    "torch.manual_seed(42)\n",
    "torch.cuda.manual_seed(42)\n",
    "\n",
    "# set number of epochs\n",
    "EPOCHS = 1\n",
    "\n",
    "# put data on device\n",
    "X_train, y_train = X_train.to(device), y_train.to(device)\n",
    "X_test, y_test = X_test.to(device), y_test.to(device)\n",
    "\n",
    "# batch size\n",
    "BATCH_SIZE = 8\n",
    "\n",
    "num_batches = len(X_train) // BATCH_SIZE\n",
    "\n",
    "X_train_batches = split_batches(X_train, BATCH_SIZE)\n",
    "\n",
    "y_train_batches = split_batches(y_train, BATCH_SIZE)\n",
    "\n",
    "# X_test_batches = split_batches(X_test, batch_size)\n",
    "\n",
    "# y_test_batches = split_batches(y_test, batch_size)\n",
    "\n",
    "\n",
    "# Build training and evaluation loops\n",
    "for epoch in range(EPOCHS):\n",
    "    for batch in range(num_batches):\n",
    "        X_train_batch = X_train_batches[batch]\n",
    "\n",
    "        y_train_batch = y_train_batches[batch]\n",
    "\n",
    "        # X_test_batch = X_test_batches[batch]\n",
    "\n",
    "        # y_test_batch = y_test_batches[batch]\n",
    "\n",
    "        model_1.train()\n",
    "\n",
    "        # forward pass\n",
    "\n",
    "        y_logits = model_1(X_train_batch)\n",
    "\n",
    "        print(f\"y_logits.shape = {y_logits.shape}\")\n",
    "\n",
    "        y_preds = torch.mode(torch.argmax(torch.softmax(y_logits, dim=2), dim=2)).values\n",
    "\n",
    "        print(f\"y_preds = {y_preds}\")\n",
    "\n",
    "        # calculate loss and accuracy\n",
    "\n",
    "        y_train_batch = y_train_batch.to(torch.long)\n",
    "\n",
    "        losses = [loss_fn(y_logits[:, i, :], y_train_batch) for i in range(45)]\n",
    "\n",
    "        \n",
    "\n",
    "        loss = torch.stack(losses).mean()\n",
    "\n",
    "    \n",
    "\n",
    "        \n",
    "\n",
    "        acc = accuracy_fn(y_true=y_train_batch, y_pred=y_preds)\n",
    "\n",
    "        # optimizer zero grad\n",
    "        optimizer.zero_grad()\n",
    "\n",
    "        # backward pass (backpropagation)\n",
    "        loss.backward()\n",
    "\n",
    "        # step optimizer (gradient descent)\n",
    "        optimizer.step()\n",
    "\n",
    "    # testing\n",
    "    model_1.eval()\n",
    "    with torch.inference_mode():\n",
    "        test_logits = model_1(X_test)  #\n",
    "\n",
    "        # test_logits = test_logits.reshape(test_logits.size(0), -1)\n",
    "\n",
    "        test_preds = torch.mode(\n",
    "            torch.argmax(torch.softmax(test_logits, dim=2), dim=2)\n",
    "        ).values\n",
    "\n",
    "        y_test = y_test.to(torch.long)\n",
    "\n",
    "        test_losses = [loss_fn(test_logits[:, i, :], y_test) for i in range(45)]\n",
    "        test_loss = torch.stack(test_losses).mean()  # CrossEntropyLoss() expects logits\n",
    "\n",
    "        test_acc = accuracy_fn(y_true=y_test, y_pred=test_preds)\n",
    "\n",
    "    # print results\n",
    "    if (epoch) % 10 == 0:\n",
    "        print(\n",
    "            f\"Epoch: {epoch} | Train Loss: {loss:.5f} | Train Acc: {acc:.3f}% | Test Loss: {test_loss:.5f} | Test Acc: {test_acc:.3f}%\"\n",
    "        )\n",
    "        # print(\n",
    "        #    pd.Series(\n",
    "        #        (torch.mode(y_preds).values.cpu().detach().numpy())\n",
    "        #    ).value_counts()\n",
    "        # )"
   ]
  },
  {
   "cell_type": "code",
   "execution_count": 20,
   "metadata": {},
   "outputs": [
    {
     "data": {
      "text/plain": [
       "Text(0.5, 1.0, 'Confusion Matrix')"
      ]
     },
     "execution_count": 20,
     "metadata": {},
     "output_type": "execute_result"
    },
    {
     "data": {
      "image/png": "[encoded data removed]",
      "text/plain": [
       "<Figure size 1200x1000 with 2 Axes>"
      ]
     },
     "metadata": {},
     "output_type": "display_data"
    }
   ],
   "source": [
    "cf_matrix = confusion_matrix(\n",
    "    y_test.cpu().detach().numpy(), test_preds.cpu().detach().numpy()\n",
    ")\n",
    "\n",
    "plt.figure(figsize=(12, 10))\n",
    "\n",
    "sns.heatmap(\n",
    "    cf_matrix / np.sum(cf_matrix),\n",
    "    annot=True,\n",
    "    fmt=\".2%\",\n",
    "    cmap=\"Blues\",\n",
    ")\n",
    "\n",
    "\n",
    "plt.xlabel(\"Predicted\")\n",
    "plt.ylabel(\"Actual\")\n",
    "plt.title(\"Confusion Matrix\")"
   ]
  },
  {
   "cell_type": "code",
   "execution_count": 21,
   "metadata": {},
   "outputs": [
    {
     "data": {
      "text/html": [
       "<div>\n",
       "<style scoped>\n",
       "    .dataframe tbody tr th:only-of-type {\n",
       "        vertical-align: middle;\n",
       "    }\n",
       "\n",
       "    .dataframe tbody tr th {\n",
       "        vertical-align: top;\n",
       "    }\n",
       "\n",
       "    .dataframe thead th {\n",
       "        text-align: right;\n",
       "    }\n",
       "</style>\n",
       "<table border=\"1\" class=\"dataframe\">\n",
       "  <thead>\n",
       "    <tr style=\"text-align: right;\">\n",
       "      <th></th>\n",
       "      <th>Predicted</th>\n",
       "      <th>Actual</th>\n",
       "      <th>accuracy</th>\n",
       "    </tr>\n",
       "  </thead>\n",
       "  <tbody>\n",
       "    <tr>\n",
       "      <th>7</th>\n",
       "      <td>260</td>\n",
       "      <td>261</td>\n",
       "      <td>0.996</td>\n",
       "    </tr>\n",
       "    <tr>\n",
       "      <th>6</th>\n",
       "      <td>200</td>\n",
       "      <td>186</td>\n",
       "      <td>1.075</td>\n",
       "    </tr>\n",
       "    <tr>\n",
       "      <th>4</th>\n",
       "      <td>165</td>\n",
       "      <td>157</td>\n",
       "      <td>1.051</td>\n",
       "    </tr>\n",
       "    <tr>\n",
       "      <th>0</th>\n",
       "      <td>148</td>\n",
       "      <td>148</td>\n",
       "      <td>1.000</td>\n",
       "    </tr>\n",
       "    <tr>\n",
       "      <th>2</th>\n",
       "      <td>137</td>\n",
       "      <td>135</td>\n",
       "      <td>1.015</td>\n",
       "    </tr>\n",
       "    <tr>\n",
       "      <th>11</th>\n",
       "      <td>127</td>\n",
       "      <td>127</td>\n",
       "      <td>1.000</td>\n",
       "    </tr>\n",
       "    <tr>\n",
       "      <th>1</th>\n",
       "      <td>126</td>\n",
       "      <td>123</td>\n",
       "      <td>1.024</td>\n",
       "    </tr>\n",
       "    <tr>\n",
       "      <th>10</th>\n",
       "      <td>103</td>\n",
       "      <td>109</td>\n",
       "      <td>0.945</td>\n",
       "    </tr>\n",
       "    <tr>\n",
       "      <th>5</th>\n",
       "      <td>77</td>\n",
       "      <td>75</td>\n",
       "      <td>1.027</td>\n",
       "    </tr>\n",
       "    <tr>\n",
       "      <th>9</th>\n",
       "      <td>68</td>\n",
       "      <td>72</td>\n",
       "      <td>0.944</td>\n",
       "    </tr>\n",
       "    <tr>\n",
       "      <th>8</th>\n",
       "      <td>48</td>\n",
       "      <td>60</td>\n",
       "      <td>0.800</td>\n",
       "    </tr>\n",
       "    <tr>\n",
       "      <th>3</th>\n",
       "      <td>23</td>\n",
       "      <td>29</td>\n",
       "      <td>0.793</td>\n",
       "    </tr>\n",
       "  </tbody>\n",
       "</table>\n",
       "</div>"
      ],
      "text/plain": [
       "    Predicted  Actual  accuracy\n",
       "7         260     261     0.996\n",
       "6         200     186     1.075\n",
       "4         165     157     1.051\n",
       "0         148     148     1.000\n",
       "2         137     135     1.015\n",
       "11        127     127     1.000\n",
       "1         126     123     1.024\n",
       "10        103     109     0.945\n",
       "5          77      75     1.027\n",
       "9          68      72     0.944\n",
       "8          48      60     0.800\n",
       "3          23      29     0.793"
      ]
     },
     "execution_count": 21,
     "metadata": {},
     "output_type": "execute_result"
    }
   ],
   "source": [
    "results_df = pd.DataFrame(columns=[\"Predicted\", \"Actual\"])\n",
    "\n",
    "results_df[\"Predicted\"], results_df[\"Actual\"] = (\n",
    "    pd.Series(test_preds.cpu().detach().numpy()).value_counts(),\n",
    "    pd.Series(y_test.cpu().detach().numpy()).value_counts(),\n",
    ")\n",
    "\n",
    "\n",
    "results_df[\"accuracy\"] = round(results_df[\"Predicted\"] / results_df[\"Actual\"], 3)\n",
    "\n",
    "results_df"
   ]
  },
  {
   "cell_type": "markdown",
   "metadata": {},
   "source": [
    "# Memory management"
   ]
  },
  {
   "cell_type": "code",
   "execution_count": 41,
   "metadata": {},
   "outputs": [],
   "source": [
    "del (\n",
    "    model_1,\n",
    "    loss_fn,\n",
    "    optimizer,\n",
    "    X_train,\n",
    "    X_test,\n",
    "    y_train,\n",
    "    y_test,\n",
    "    X_train_batches,\n",
    "    y_train_batches,\n",
    "    y_logits,\n",
    "    y_preds,\n",
    "    test_logits,\n",
    "    test_preds,\n",
    "    losses,\n",
    "    test_losses,\n",
    "    loss,\n",
    "    test_loss,\n",
    "    acc,\n",
    "    test_acc,\n",
    "    # batch_size,\n",
    "    num_batches,\n",
    "    batch,\n",
    ")\n",
    "\n",
    "torch.cuda.empty_cache()"
   ]
  },
  {
   "cell_type": "code",
   "execution_count": 32,
   "metadata": {},
   "outputs": [
    {
     "data": {
      "text/plain": [
       "140"
      ]
     },
     "execution_count": 32,
     "metadata": {},
     "output_type": "execute_result"
    }
   ],
   "source": [
    "import gc\n",
    "\n",
    "gc.collect()"
   ]
  },
  {
   "cell_type": "markdown",
   "metadata": {},
   "source": [
    "# Saving and loading models"
   ]
  },
  {
   "cell_type": "code",
   "execution_count": 97,
   "metadata": {},
   "outputs": [
    {
     "data": {
      "text/plain": [
       "11"
      ]
     },
     "execution_count": 97,
     "metadata": {},
     "output_type": "execute_result"
    }
   ],
   "source": [
    "len(model_1.state_dict())"
   ]
  },
  {
   "cell_type": "code",
   "execution_count": 98,
   "metadata": {},
   "outputs": [],
   "source": [
    "torch.save(model_1.state_dict(), \"model_1.pt\")"
   ]
  },
  {
   "cell_type": "code",
   "execution_count": 21,
   "metadata": {},
   "outputs": [],
   "source": [
    "model_1 = Model_1()\n",
    "\n",
    "model_1.load_state_dict(torch.load(\"model_1.pt\"))\n",
    "\n",
    "model_1 = model_1.to(device)"
   ]
  },
  {
   "cell_type": "markdown",
   "metadata": {},
   "source": [
    "# Evaluate model on unseen data"
   ]
  },
  {
   "cell_type": "code",
   "execution_count": 4,
   "metadata": {},
   "outputs": [
    {
     "ename": "NameError",
     "evalue": "name 'SECONDS_PER_SAMPLE' is not defined",
     "output_type": "error",
     "traceback": [
      "\u001b[0;31m---------------------------------------------------------------------------\u001b[0m",
      "\u001b[0;31mNameError\u001b[0m                                 Traceback (most recent call last)",
      "Cell \u001b[0;32mIn[4], line 1\u001b[0m\n\u001b[0;32m----> 1\u001b[0m chunk_size \u001b[39m=\u001b[39m SECONDS_PER_SAMPLE \u001b[39m*\u001b[39m \u001b[39m45\u001b[39m  \u001b[39m# 45 samples per second\u001b[39;00m\n\u001b[1;32m      2\u001b[0m X_list \u001b[39m=\u001b[39m []  \u001b[39m# List to store X arrays\u001b[39;00m\n\u001b[1;32m      3\u001b[0m y_list \u001b[39m=\u001b[39m []  \u001b[39m# List to store y arrays\u001b[39;00m\n",
      "\u001b[0;31mNameError\u001b[0m: name 'SECONDS_PER_SAMPLE' is not defined"
     ]
    }
   ],
   "source": [
    "chunk_size = SECONDS_PER_SAMPLE * 45  # 45 samples per second\n",
    "X_list = []  # List to store X arrays\n",
    "y_list = []  # List to store y arrays\n",
    "\n",
    "\n",
    "file = \"test_audio/Rubinstein - Chopin Nocturne Op. 48 in C Minor.mp3\"\n",
    "# file = \"test_audio/Nikolayeva - Shostakovich  P and F B2.mp3\"\n",
    "# file = \"test_audio/Gould - Goldberg Variations, Aria.mp3\"\n",
    "# file = \"test_audio/Moravec - Bach Chromatic Fantasia BVW 903.mp3\"\n",
    "# file = \"test_audio/Crochet - Goldberg Variation.mp3\"\n",
    "# file = \"test_audio/Pogorelich - Chopin 4 scherzi.mp3\"\n",
    "\n",
    "t = get_logC(file)\n",
    "\n",
    "artist_mapping = file.split(\"/\")[1].split()[0]\n",
    "\n",
    "array_list = []\n",
    "\n",
    "for n in range(len(t.columns) // chunk_size):\n",
    "    arr = t[range(n * chunk_size, (n + 1) * chunk_size, 1)].T.to_numpy()\n",
    "    array_list.append(arr)\n",
    "\n",
    "arrays = np.array(array_list)\n",
    "X_list.append(torch.tensor(arrays))\n",
    "y_list.append(torch.full((arrays.shape[0],), artist_dict[artist_mapping]))\n",
    "\n",
    "\n",
    "x_test_1 = torch.cat(X_list, dim=0)\n",
    "y_test_1 = torch.cat(y_list, dim=0)\n",
    "x_test_1 = x_test_1.to(device)\n",
    "\n",
    "\n",
    "with torch.inference_mode():\n",
    "    test_1_logits = model_1(x_test_1)\n",
    "\n",
    "    test_1_pred = torch.mode(\n",
    "        torch.argmax(torch.softmax(test_1_logits, dim=2), dim=2)\n",
    "    ).values\n",
    "\n",
    "\n",
    "# guesses.value_counts().plot(kind=\"bar\")\n",
    "\n",
    "print(\n",
    "    f\"Guess is: {get_keys_from_value(artist_dict, pd.Series(test_1_pred.cpu()).value_counts().index[0] )[0]}({pd.Series(test_1_pred.cpu()).value_counts().index[0]}), True is: {get_keys_from_value(artist_dict, pd.Series(y_test_1)[0])[0]}({pd.Series(y_test_1)[0]})\"\n",
    ")\n",
    "\n",
    "pd.Series(test_1_pred.cpu()).value_counts()"
   ]
  },
  {
   "cell_type": "code",
   "execution_count": 45,
   "metadata": {},
   "outputs": [
    {
     "data": {
      "text/plain": [
       "{'Gould': 0,\n",
       " 'Ishizaka': 1,\n",
       " 'Richter': 2,\n",
       " 'Schiff': 3,\n",
       " 'Tureck': 4,\n",
       " 'Tharaud': 5,\n",
       " 'Moravec': 6,\n",
       " 'Rubinstein': 7,\n",
       " 'Pogorelich': 8,\n",
       " 'Nikolayeva': 9,\n",
       " 'Horowitz': 10,\n",
       " 'Crochet': 11}"
      ]
     },
     "execution_count": 45,
     "metadata": {},
     "output_type": "execute_result"
    }
   ],
   "source": [
    "artist_dict"
   ]
  },
  {
   "cell_type": "code",
   "execution_count": null,
   "metadata": {},
   "outputs": [],
   "source": []
  }
 ],
 "metadata": {
  "kernelspec": {
   "display_name": "Python 3",
   "language": "python",
   "name": "python3"
  },
  "language_info": {
   "codemirror_mode": {
    "name": "ipython",
    "version": 3
   },
   "file_extension": ".py",
   "mimetype": "text/x-python",
   "name": "python",
   "nbconvert_exporter": "python",
   "pygments_lexer": "ipython3",
   "version": "3.10.12"
  },
  "orig_nbformat": 4
 },
 "nbformat": 4,
 "nbformat_minor": 2
}
